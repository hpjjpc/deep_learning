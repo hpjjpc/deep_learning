{
  "nbformat": 4,
  "nbformat_minor": 0,
  "metadata": {
    "colab": {
      "name": "8_cnn_tf.layers.ipynb",
      "version": "0.3.2",
      "provenance": [],
      "include_colab_link": true
    },
    "kernelspec": {
      "name": "python3",
      "display_name": "Python 3"
    }
  },
  "cells": [
    {
      "cell_type": "markdown",
      "metadata": {
        "id": "view-in-github",
        "colab_type": "text"
      },
      "source": [
        "<a href=\"https://colab.research.google.com/github/iamdsc/deep_learning/blob/master/8_cnn_tf_layers.ipynb\" target=\"_parent\"><img src=\"https://colab.research.google.com/assets/colab-badge.svg\" alt=\"Open In Colab\"/></a>"
      ]
    },
    {
      "metadata": {
        "id": "TZy0jwVyQzQH",
        "colab_type": "text"
      },
      "cell_type": "markdown",
      "source": [
        "## Implementing CNN with tf Layers API"
      ]
    },
    {
      "metadata": {
        "id": "__ZKVbIJQkUY",
        "colab_type": "code",
        "colab": {}
      },
      "cell_type": "code",
      "source": [
        "import os\n",
        "import struct\n",
        "import numpy as np"
      ],
      "execution_count": 0,
      "outputs": []
    },
    {
      "metadata": {
        "id": "8_CelB1tQ_cm",
        "colab_type": "text"
      },
      "cell_type": "markdown",
      "source": [
        "### Loading and pre-processing the data"
      ]
    },
    {
      "metadata": {
        "id": "Q-pTTy44QuoS",
        "colab_type": "code",
        "colab": {}
      },
      "cell_type": "code",
      "source": [
        "def load_mnist(path, kind='train'):\n",
        "    \"\"\"Load MNIST data from path\"\"\"\n",
        "    labels_path=os.path.join(path, '%s-labels.idx1-ubyte' % kind)\n",
        "    images_path=os.path.join(path, '%s-images.idx3-ubyte' % kind)\n",
        "    \n",
        "    with open(labels_path, 'rb') as lbpath:\n",
        "        magic, n=struct.unpack('>II', lbpath.read(8))\n",
        "        labels=np.fromfile(lbpath, dtype=np.uint8)\n",
        "    \n",
        "    with open(images_path, 'rb') as imgpath:\n",
        "        magic, num, rows, cols=struct.unpack('>IIII', imgpath.read(16))\n",
        "        images=np.fromfile(imgpath, dtype=np.uint8).reshape(len(labels), 784)\n",
        "        images=((images/255.0)-0.5)*2 #normalized to -1 to 1 range\n",
        "    \n",
        "    return images, labels"
      ],
      "execution_count": 0,
      "outputs": []
    },
    {
      "metadata": {
        "id": "n6GfHKhGRRSZ",
        "colab_type": "code",
        "colab": {
          "base_uri": "https://localhost:8080/",
          "height": 531
        },
        "outputId": "0baba96f-6cb8-41d4-b171-209bd88370a2"
      },
      "cell_type": "code",
      "source": [
        "#downloading dataset from github\n",
        "!wget https://github.com/iamdsc/deep_learning/raw/master/data.zip\n",
        "!mkdir data\n",
        "!unzip data.zip -d data/\n",
        "\n",
        "\n",
        "X_data, y_data=load_mnist('data/data/',kind='train')\n",
        "print('Rows:{},Columns:{}'.format(X_data.shape[0], X_data.shape[1]))\n",
        "X_test, y_test=load_mnist('data/data/',kind='t10k')\n",
        "print('Rows:{},Columns:{}'.format(X_test.shape[0], X_data.shape[1]))\n",
        "\n",
        "X_train, y_train=X_data[:50000,:], y_data[:50000]\n",
        "X_valid, y_valid=X_data[50000:,:], y_data[50000:]\n",
        "print('Training: ',X_train.shape, y_train.shape)\n",
        "print('Validation: ',X_valid.shape, y_valid.shape)\n",
        "print('Test Set: ',X_test.shape, y_test.shape)"
      ],
      "execution_count": 10,
      "outputs": [
        {
          "output_type": "stream",
          "text": [
            "--2019-02-24 13:40:36--  https://github.com/iamdsc/deep_learning/raw/master/data.zip\n",
            "Resolving github.com (github.com)... 192.30.253.112, 192.30.253.113\n",
            "Connecting to github.com (github.com)|192.30.253.112|:443... connected.\n",
            "HTTP request sent, awaiting response... 302 Found\n",
            "Location: https://raw.githubusercontent.com/iamdsc/deep_learning/master/data.zip [following]\n",
            "--2019-02-24 13:40:36--  https://raw.githubusercontent.com/iamdsc/deep_learning/master/data.zip\n",
            "Resolving raw.githubusercontent.com (raw.githubusercontent.com)... 151.101.0.133, 151.101.64.133, 151.101.128.133, ...\n",
            "Connecting to raw.githubusercontent.com (raw.githubusercontent.com)|151.101.0.133|:443... connected.\n",
            "HTTP request sent, awaiting response... 200 OK\n",
            "Length: 11683796 (11M) [application/zip]\n",
            "Saving to: ‘data.zip.1’\n",
            "\n",
            "\rdata.zip.1            0%[                    ]       0  --.-KB/s               \rdata.zip.1          100%[===================>]  11.14M  --.-KB/s    in 0.1s    \n",
            "\n",
            "2019-02-24 13:40:36 (83.0 MB/s) - ‘data.zip.1’ saved [11683796/11683796]\n",
            "\n",
            "mkdir: cannot create directory ‘data’: File exists\n",
            "Archive:  data.zip\n",
            "replace data/data/t10k-images.idx3-ubyte? [y]es, [n]o, [A]ll, [N]one, [r]ename: A\n",
            "  inflating: data/data/t10k-images.idx3-ubyte  \n",
            "  inflating: data/data/t10k-labels.idx1-ubyte  \n",
            "  inflating: data/data/train-images.idx3-ubyte  \n",
            "  inflating: data/data/train-labels.idx1-ubyte  \n",
            "Rows:60000,Columns:784\n",
            "Rows:10000,Columns:784\n",
            "Training:  (50000, 784) (50000,)\n",
            "Validation:  (10000, 784) (10000,)\n",
            "Test Set:  (10000, 784) (10000,)\n"
          ],
          "name": "stdout"
        }
      ]
    },
    {
      "metadata": {
        "id": "VT1pFAoLRX2x",
        "colab_type": "code",
        "colab": {}
      },
      "cell_type": "code",
      "source": [
        "def batch_generator(X, y, batch_size=64, shuffle=False, random_seed=None):\n",
        "    \" Function for iterating through mini-batches of data \"\n",
        "    idx=np.arange(y.shape[0])\n",
        "    \n",
        "    if shuffle:\n",
        "        rng=np.random.RandomState(random_seed)\n",
        "        rng.shuffle(idx)\n",
        "        X=X[idx]\n",
        "        y=y[idx]\n",
        "    \n",
        "    for i in range(0, X.shape[0], batch_size):\n",
        "        yield (X[i:i+batch_size,:], y[i:i+batch_size])"
      ],
      "execution_count": 0,
      "outputs": []
    },
    {
      "metadata": {
        "id": "k04sGOJ-R0Dn",
        "colab_type": "code",
        "colab": {}
      },
      "cell_type": "code",
      "source": [
        "# Normalizing the data\n",
        "mean_vals=np.mean(X_train, axis=0)\n",
        "std_val=np.std(X_train)\n",
        "\n",
        "X_train_centered=(X_train-mean_vals)/std_val\n",
        "X_valid_centered=(X_valid-mean_vals)/std_val\n",
        "X_test_centered=(X_test-mean_vals)/std_val"
      ],
      "execution_count": 0,
      "outputs": []
    },
    {
      "metadata": {
        "id": "rN19xIEuR7iK",
        "colab_type": "code",
        "colab": {}
      },
      "cell_type": "code",
      "source": [
        "# Implementing the model\n",
        "import tensorflow as tf\n",
        "\n",
        "class ConvNN(object):\n",
        "  def __init__(self,batchsize=64,epochs=20,learning_rate=1e-4,dropout_rate=0.5,shuffle=True,random_seed=None):\n",
        "    np.random.seed(random_seed)\n",
        "    self.batchsize=batchsize\n",
        "    self.epochs=epochs\n",
        "    self.learning_rate=learning_rate\n",
        "    self.dropout_rate=dropout_rate\n",
        "    self.shuffle=shuffle\n",
        "    \n",
        "    g=tf.Graph()\n",
        "    with g.as_default():\n",
        "      # set random-seed\n",
        "      tf.set_random_seed(random_seed)\n",
        "      \n",
        "      # build the network\n",
        "      self.build()\n",
        "      \n",
        "      # initializer\n",
        "      self.init_op=tf.global_variables_initializer()\n",
        "      \n",
        "      # saver\n",
        "      self.saver=tf.train.Saver()\n",
        "      \n",
        "      # create a session\n",
        "      self.sess=tf.Session(graph=g)\n",
        "  \n",
        "  def build(self):\n",
        "    # Placeholders for X and y:\n",
        "    tf_x=tf.placeholder(tf.float32,shape=[None,784],name='tf_x')\n",
        "    tf_y=tf.placeholder(tf.int32,shape=[None],name='tf_y')\n",
        "    is_train=tf.placeholder(tf.bool,shape=(),name='is_train')\n",
        "    \n",
        "    # reshape x to a 4D tensor: [batchsize,width,height,1]\n",
        "    tf_x_image=tf.reshape(tf_x,shape=[-1,28,28,1],name='input_x_2dimages')\n",
        "    \n",
        "    # one-hot encoding\n",
        "    tf_y_onehot=tf.one_hot(indices=tf_y,depth=10,dtype=tf.float32,name='input_y_onehot')\n",
        "    \n",
        "    # 1st layer: Conv_1\n",
        "    h1=tf.layers.conv2d(tf_x_image,kernel_size=(5,5),filters=32,activation=tf.nn.relu)\n",
        "    \n",
        "    # MaxPooling\n",
        "    h1_pool=tf.layers.max_pooling2d(h1,pool_size=(2,2),strides=(2,2))\n",
        "    \n",
        "    # 2nd layer: Conv_2\n",
        "    h2=tf.layers.conv2d(h1_pool,kernel_size=(5,5),filters=64,activation=tf.nn.relu)\n",
        "    \n",
        "    # MaxPooling\n",
        "    h2_pool=tf.layers.max_pooling2d(h2,pool_size=(2,2),strides=(2,2))\n",
        "    \n",
        "    # 3rd layer: Fully Connected\n",
        "    input_shape=h2_pool.get_shape().as_list()\n",
        "    n_input_units=np.prod(input_shape[1:])\n",
        "    h2_pool_flat=tf.reshape(h2_pool,shape=[-1,n_input_units])\n",
        "    \n",
        "    h3=tf.layers.dense(h2_pool_flat,1024,activation=tf.nn.relu)\n",
        "    \n",
        "    # Dropout\n",
        "    h3_drop=tf.layers.dropout(h3,rate=self.dropout_rate,training=is_train)\n",
        "    \n",
        "    # 4th layer: Fully Connected (linear activation)\n",
        "    h4=tf.layers.dense(h3_drop,10,activation=None)\n",
        "    \n",
        "    # Prediction\n",
        "    predictions={'probabilites':tf.nn.softmax(h4,name='probabilities'),'labels':tf.cast(tf.argmax(h4,axis=1),tf.int32,name='labels')}\n",
        "    \n",
        "    # loss function and optimization\n",
        "    cross_entropy_loss=tf.reduce_mean(tf.nn.softmax_cross_entropy_with_logits(logits=h4,labels=tf_y_onehot),name='cross_entropy_loss')\n",
        "    \n",
        "    # optimizer\n",
        "    optimizer=tf.train.AdamOptimizer(self.learning_rate)\n",
        "    optimizer=optimizer.minimize(cross_entropy_loss,name='train_op')\n",
        "    \n",
        "    # finding accuracy\n",
        "    correct_predictions=tf.equal(predictions['labels'],tf_y,name='correct_preds')\n",
        "    accuracy=tf.reduce_mean(tf.cast(correct_predictions,tf.float32),name='accuracy')\n",
        "    \n",
        "  def save(self,epoch,path='./tflayers-model/'):\n",
        "    if not os.path.isdir(path):\n",
        "      os.makedirs(path)\n",
        "    print('Saving model in %s' % path)\n",
        "    self.saver.save(self.sess,os.path.join(path,'model.ckpt'),global_step=epoch)\n",
        "    \n",
        "  def load(self,epoch,path):\n",
        "    print('Loading model from %s' % path)\n",
        "    self.saver.restore(self.sess,os.path.join(path,'model.ckpt-%d' % epoch))\n",
        "  \n",
        "  def train(self,training_set,validation_set=None,initialize=True):\n",
        "    # initialize variables\n",
        "    if initialize:\n",
        "      self.sess.run(self.init_op)\n",
        "    \n",
        "    self.train_cost_=[]\n",
        "    X_data=np.array(training_set[0])\n",
        "    y_data=np.array(training_set[1])\n",
        "    \n",
        "    for epoch in range(1,self.epochs+1):\n",
        "      batch_gen=batch_generator(X_data,y_data,shuffle=self.shuffle)\n",
        "      avg_loss=0.0\n",
        "      for i,(batch_x,batch_y) in enumerate(batch_gen):\n",
        "        feed={'tf_x:0':batch_x,'tf_y:0':batch_y,'is_train:0':True}\n",
        "        loss,_=self.sess.run(['cross_entropy_loss:0','train_op'],feed_dict=feed)\n",
        "        avg_loss+=loss\n",
        "      \n",
        "      print('Epoch %02d: Training Avg. Loss: %7.3f'%(epoch,avg_loss), end=' ')\n",
        "      \n",
        "      if validation_set is not None:\n",
        "        feed={'tf_x:0':batch_x,'tf_y:0':batch_y,'is_train:0':False}\n",
        "        valid_acc=self.sess.run('accuracy:0',feed_dict=feed)\n",
        "        print('Validation Acc: %7.3f' % valid_acc)\n",
        "      else:\n",
        "        print()\n",
        "  \n",
        "  def predict(self,X_test,return_proba=False):\n",
        "    feed={'tf_x:0':X_test,'is_train:0':False}\n",
        "    if return_proba:\n",
        "      return self.sess.run('probabilities:0',feed_dict=feed)\n",
        "    else:\n",
        "      return self.sess.run('labels:0',feed_dict=feed)"
      ],
      "execution_count": 0,
      "outputs": []
    },
    {
      "metadata": {
        "id": "krNym-4QpeAx",
        "colab_type": "code",
        "colab": {
          "base_uri": "https://localhost:8080/",
          "height": 900
        },
        "outputId": "52a65014-d424-4fd5-888f-958797c02a61"
      },
      "cell_type": "code",
      "source": [
        "cnn=ConvNN(random_seed=123)\n",
        "\n",
        "# training the model\n",
        "cnn.train(training_set=(X_train_centered,y_train),validation_set=(X_valid_centered,y_valid),initialize=True)\n",
        "cnn.save(epoch=20)"
      ],
      "execution_count": 15,
      "outputs": [
        {
          "output_type": "stream",
          "text": [
            "WARNING:tensorflow:From <ipython-input-13-6f670f7a605c>:42: conv2d (from tensorflow.python.layers.convolutional) is deprecated and will be removed in a future version.\n",
            "Instructions for updating:\n",
            "Use keras.layers.conv2d instead.\n",
            "WARNING:tensorflow:From /usr/local/lib/python3.6/dist-packages/tensorflow/python/framework/op_def_library.py:263: colocate_with (from tensorflow.python.framework.ops) is deprecated and will be removed in a future version.\n",
            "Instructions for updating:\n",
            "Colocations handled automatically by placer.\n",
            "WARNING:tensorflow:From <ipython-input-13-6f670f7a605c>:45: max_pooling2d (from tensorflow.python.layers.pooling) is deprecated and will be removed in a future version.\n",
            "Instructions for updating:\n",
            "Use keras.layers.max_pooling2d instead.\n",
            "WARNING:tensorflow:From <ipython-input-13-6f670f7a605c>:58: dense (from tensorflow.python.layers.core) is deprecated and will be removed in a future version.\n",
            "Instructions for updating:\n",
            "Use keras.layers.dense instead.\n",
            "WARNING:tensorflow:From <ipython-input-13-6f670f7a605c>:61: dropout (from tensorflow.python.layers.core) is deprecated and will be removed in a future version.\n",
            "Instructions for updating:\n",
            "Use keras.layers.dropout instead.\n",
            "WARNING:tensorflow:From /usr/local/lib/python3.6/dist-packages/tensorflow/python/keras/layers/core.py:143: calling dropout (from tensorflow.python.ops.nn_ops) with keep_prob is deprecated and will be removed in a future version.\n",
            "Instructions for updating:\n",
            "Please use `rate` instead of `keep_prob`. Rate should be set to `rate = 1 - keep_prob`.\n",
            "WARNING:tensorflow:From <ipython-input-13-6f670f7a605c>:70: softmax_cross_entropy_with_logits (from tensorflow.python.ops.nn_ops) is deprecated and will be removed in a future version.\n",
            "Instructions for updating:\n",
            "\n",
            "Future major versions of TensorFlow will allow gradients to flow\n",
            "into the labels input on backprop by default.\n",
            "\n",
            "See `tf.nn.softmax_cross_entropy_with_logits_v2`.\n",
            "\n",
            "Epoch 01: Training Avg. Loss: 266.056 Validation Acc:   1.000\n",
            "Epoch 02: Training Avg. Loss:  72.895 Validation Acc:   1.000\n",
            "Epoch 03: Training Avg. Loss:  49.570 Validation Acc:   1.000\n",
            "Epoch 04: Training Avg. Loss:  39.510 Validation Acc:   1.000\n",
            "Epoch 05: Training Avg. Loss:  31.900 Validation Acc:   1.000\n",
            "Epoch 06: Training Avg. Loss:  26.443 Validation Acc:   1.000\n",
            "Epoch 07: Training Avg. Loss:  22.490 Validation Acc:   1.000\n",
            "Epoch 08: Training Avg. Loss:  18.927 Validation Acc:   1.000\n",
            "Epoch 09: Training Avg. Loss:  16.197 Validation Acc:   1.000\n",
            "Epoch 10: Training Avg. Loss:  14.943 Validation Acc:   1.000\n",
            "Epoch 11: Training Avg. Loss:  12.998 Validation Acc:   1.000\n",
            "Epoch 12: Training Avg. Loss:  12.179 Validation Acc:   1.000\n",
            "Epoch 13: Training Avg. Loss:   9.438 Validation Acc:   1.000\n",
            "Epoch 14: Training Avg. Loss:   8.314 Validation Acc:   1.000\n",
            "Epoch 15: Training Avg. Loss:   7.886 Validation Acc:   1.000\n",
            "Epoch 16: Training Avg. Loss:   7.089 Validation Acc:   1.000\n",
            "Epoch 17: Training Avg. Loss:   5.826 Validation Acc:   1.000\n",
            "Epoch 18: Training Avg. Loss:   4.940 Validation Acc:   1.000\n",
            "Epoch 19: Training Avg. Loss:   5.798 Validation Acc:   1.000\n",
            "Epoch 20: Training Avg. Loss:   4.946 Validation Acc:   1.000\n",
            "Saving model in ./tflayers-model/\n"
          ],
          "name": "stdout"
        }
      ]
    },
    {
      "metadata": {
        "id": "rFsGemzHvCOs",
        "colab_type": "code",
        "colab": {
          "base_uri": "https://localhost:8080/",
          "height": 147
        },
        "outputId": "94e45b7f-4cd8-4955-952b-ad91b538117a"
      },
      "cell_type": "code",
      "source": [
        "# performing prediction\n",
        "cnn2=ConvNN(random_seed=123)\n",
        "cnn2.load(epoch=20,path='./tflayers-model/')\n",
        "\n",
        "print(cnn2.predict(X_test_centered[:10,:]))"
      ],
      "execution_count": 16,
      "outputs": [
        {
          "output_type": "stream",
          "text": [
            "Loading model from ./tflayers-model/\n",
            "WARNING:tensorflow:From /usr/local/lib/python3.6/dist-packages/tensorflow/python/training/saver.py:1266: checkpoint_exists (from tensorflow.python.training.checkpoint_management) is deprecated and will be removed in a future version.\n",
            "Instructions for updating:\n",
            "Use standard file APIs to check for files with this prefix.\n",
            "INFO:tensorflow:Restoring parameters from ./tflayers-model/model.ckpt-20\n",
            "[7 2 1 0 4 1 4 9 5 9]\n"
          ],
          "name": "stdout"
        }
      ]
    },
    {
      "metadata": {
        "id": "cwP5ZupZ4msk",
        "colab_type": "code",
        "colab": {
          "base_uri": "https://localhost:8080/",
          "height": 35
        },
        "outputId": "8bb3e4d7-9b6f-403f-82f1-12240f7bde55"
      },
      "cell_type": "code",
      "source": [
        "# Calculating test accuracy\n",
        "preds=cnn2.predict(X_test_centered)\n",
        "print('Test Accuracy: %.2f%%' % (100*np.sum(y_test==preds)/len(y_test)))"
      ],
      "execution_count": 17,
      "outputs": [
        {
          "output_type": "stream",
          "text": [
            "Test Accuracy: 99.25%\n"
          ],
          "name": "stdout"
        }
      ]
    }
  ]
}