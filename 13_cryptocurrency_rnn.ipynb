{
  "nbformat": 4,
  "nbformat_minor": 0,
  "metadata": {
    "colab": {
      "name": "CryptoCurrencyRnn.ipynb",
      "version": "0.3.2",
      "provenance": [],
      "include_colab_link": true
    },
    "kernelspec": {
      "name": "python3",
      "display_name": "Python 3"
    },
    "accelerator": "GPU"
  },
  "cells": [
    {
      "cell_type": "markdown",
      "metadata": {
        "id": "view-in-github",
        "colab_type": "text"
      },
      "source": [
        "<a href=\"https://colab.research.google.com/github/iamdsc/deep_learning/blob/master/13_cryptocurrency_rnn.ipynb\" target=\"_parent\"><img src=\"https://colab.research.google.com/assets/colab-badge.svg\" alt=\"Open In Colab\"/></a>"
      ]
    },
    {
      "metadata": {
        "id": "i399RNslx5jb",
        "colab_type": "code",
        "colab": {
          "base_uri": "https://localhost:8080/",
          "height": 311
        },
        "outputId": "1b467219-0301-4b46-fb05-1dc942525dad"
      },
      "cell_type": "code",
      "source": [
        "# Download the data\n",
        "!wget https://github.com/iamdsc/deep_learning/raw/master/crypto_data.zip"
      ],
      "execution_count": 16,
      "outputs": [
        {
          "output_type": "stream",
          "text": [
            "--2019-03-23 16:12:51--  https://github.com/iamdsc/deep_learning/raw/master/crypto_data.zip\n",
            "Resolving github.com (github.com)... 140.82.118.3, 140.82.118.4\n",
            "Connecting to github.com (github.com)|140.82.118.3|:443... connected.\n",
            "HTTP request sent, awaiting response... 302 Found\n",
            "Location: https://raw.githubusercontent.com/iamdsc/deep_learning/master/crypto_data.zip [following]\n",
            "--2019-03-23 16:12:52--  https://raw.githubusercontent.com/iamdsc/deep_learning/master/crypto_data.zip\n",
            "Resolving raw.githubusercontent.com (raw.githubusercontent.com)... 151.101.0.133, 151.101.64.133, 151.101.128.133, ...\n",
            "Connecting to raw.githubusercontent.com (raw.githubusercontent.com)|151.101.0.133|:443... connected.\n",
            "HTTP request sent, awaiting response... 200 OK\n",
            "Length: 5998694 (5.7M) [application/zip]\n",
            "Saving to: ‘crypto_data.zip.1’\n",
            "\n",
            "\rcrypto_data.zip.1     0%[                    ]       0  --.-KB/s               \rcrypto_data.zip.1   100%[===================>]   5.72M  --.-KB/s    in 0.05s   \n",
            "\n",
            "2019-03-23 16:12:52 (108 MB/s) - ‘crypto_data.zip.1’ saved [5998694/5998694]\n",
            "\n"
          ],
          "name": "stdout"
        }
      ]
    },
    {
      "metadata": {
        "id": "403YLDJ8yiu1",
        "colab_type": "code",
        "colab": {}
      },
      "cell_type": "code",
      "source": [
        "# unpack it\n",
        "!unzip crypto_data.zip"
      ],
      "execution_count": 0,
      "outputs": []
    },
    {
      "metadata": {
        "id": "1MvE-Rhwyrme",
        "colab_type": "code",
        "colab": {
          "base_uri": "https://localhost:8080/",
          "height": 127
        },
        "outputId": "3121bb8b-bc70-418a-8d00-59c259742033"
      },
      "cell_type": "code",
      "source": [
        "# read in the csv files\n",
        "import pandas as pd\n",
        "\n",
        "df = pd.read_csv('crypto_data/LTC-USD.csv', names=['time', 'low', 'high', 'open', 'close', 'volume'])\n",
        "print(df.head())"
      ],
      "execution_count": 18,
      "outputs": [
        {
          "output_type": "stream",
          "text": [
            "         time        low       high       open      close      volume\n",
            "0  1528968660  96.580002  96.589996  96.589996  96.580002    9.647200\n",
            "1  1528968720  96.449997  96.669998  96.589996  96.660004  314.387024\n",
            "2  1528968780  96.470001  96.570000  96.570000  96.570000   77.129799\n",
            "3  1528968840  96.449997  96.570000  96.570000  96.500000    7.216067\n",
            "4  1528968900  96.279999  96.540001  96.500000  96.389999  524.539978\n"
          ],
          "name": "stdout"
        }
      ]
    },
    {
      "metadata": {
        "id": "TZ1vL0DTzImR",
        "colab_type": "code",
        "colab": {
          "base_uri": "https://localhost:8080/",
          "height": 366
        },
        "outputId": "5b81e070-12a5-410b-d64b-ea694fbc3510"
      },
      "cell_type": "code",
      "source": [
        "# combining the data into one dataframe\n",
        "\n",
        "main_df = pd.DataFrame()\n",
        "\n",
        "# the 4 ratios we want to consider\n",
        "ratios = ['BTC-USD', 'LTC-USD', 'BCH-USD', 'ETH-USD']\n",
        "\n",
        "for ratio in ratios:\n",
        "  print(ratio)\n",
        "  dataset = f'crypto_data/{ratio}.csv'\n",
        "  \n",
        "  df = pd.read_csv(dataset, names=['time', 'low', 'high', 'open', 'close', 'volume'])\n",
        "  \n",
        "  # rename the volume and close to include the ticker\n",
        "  df.rename(columns={'close':f'{ratio}_close','volume':f'{ratio}_volume'}, inplace=True)\n",
        "  \n",
        "  # we set time as index so we can join on this shared column\n",
        "  df.set_index('time', inplace=True)\n",
        "  \n",
        "  df = df[[f'{ratio}_close',f'{ratio}_volume']]\n",
        "  \n",
        "  if len(main_df)==0:\n",
        "    main_df = df\n",
        "  \n",
        "  else:\n",
        "    main_df = main_df.join(df)\n",
        "\n",
        "main_df.fillna(method='ffill', inplace=True)\n",
        "main_df.dropna(inplace=True)\n",
        "\n",
        "print(main_df.head())"
      ],
      "execution_count": 19,
      "outputs": [
        {
          "output_type": "stream",
          "text": [
            "BTC-USD\n",
            "LTC-USD\n",
            "BCH-USD\n",
            "ETH-USD\n",
            "            BTC-USD_close  BTC-USD_volume  LTC-USD_close  LTC-USD_volume  \\\n",
            "time                                                                       \n",
            "1528968720    6487.379883        7.706374      96.660004      314.387024   \n",
            "1528968780    6479.410156        3.088252      96.570000       77.129799   \n",
            "1528968840    6479.410156        1.404100      96.500000        7.216067   \n",
            "1528968900    6479.979980        0.753000      96.389999      524.539978   \n",
            "1528968960    6480.000000        1.490900      96.519997       16.991997   \n",
            "\n",
            "            BCH-USD_close  BCH-USD_volume  ETH-USD_close  ETH-USD_volume  \n",
            "time                                                                      \n",
            "1528968720     870.859985       26.856577      486.01001       26.019083  \n",
            "1528968780     870.099976        1.124300      486.00000        8.449400  \n",
            "1528968840     870.789978        1.749862      485.75000       26.994646  \n",
            "1528968900     870.000000        1.680500      486.00000       77.355759  \n",
            "1528968960     869.989990        1.669014      486.00000        7.503300  \n"
          ],
          "name": "stdout"
        }
      ]
    },
    {
      "metadata": {
        "id": "RD-ZcylTWNWw",
        "colab_type": "code",
        "colab": {}
      },
      "cell_type": "code",
      "source": [
        "# defining contants\n",
        "SEQ_LEN = 60 # how long of a predicting seq to collect for RNN\n",
        "FUTURE_PERIOD_PREDICT = 3 # how far in the future we will predict\n",
        "RATIO_TO_PREDICT = 'LTC-USD'"
      ],
      "execution_count": 0,
      "outputs": []
    },
    {
      "metadata": {
        "id": "X-abVWP7XaGY",
        "colab_type": "code",
        "colab": {
          "base_uri": "https://localhost:8080/",
          "height": 439
        },
        "outputId": "30fb647a-1609-4a1e-8d6a-632543deb1ce"
      },
      "cell_type": "code",
      "source": [
        "# classification function to map to target\n",
        "def classify(current, future):\n",
        "  if float(future) > float(current):\n",
        "    return 1 \n",
        "  else:\n",
        "    return 0\n",
        "\n",
        "main_df['future'] = main_df[f'{RATIO_TO_PREDICT}_close'].shift(-FUTURE_PERIOD_PREDICT)\n",
        "main_df['target'] = list(map(classify, main_df[f'{RATIO_TO_PREDICT}_close'], main_df['future']))\n",
        "\n",
        "print(main_df.head())"
      ],
      "execution_count": 21,
      "outputs": [
        {
          "output_type": "stream",
          "text": [
            "            BTC-USD_close  BTC-USD_volume  LTC-USD_close  LTC-USD_volume  \\\n",
            "time                                                                       \n",
            "1528968720    6487.379883        7.706374      96.660004      314.387024   \n",
            "1528968780    6479.410156        3.088252      96.570000       77.129799   \n",
            "1528968840    6479.410156        1.404100      96.500000        7.216067   \n",
            "1528968900    6479.979980        0.753000      96.389999      524.539978   \n",
            "1528968960    6480.000000        1.490900      96.519997       16.991997   \n",
            "\n",
            "            BCH-USD_close  BCH-USD_volume  ETH-USD_close  ETH-USD_volume  \\\n",
            "time                                                                       \n",
            "1528968720     870.859985       26.856577      486.01001       26.019083   \n",
            "1528968780     870.099976        1.124300      486.00000        8.449400   \n",
            "1528968840     870.789978        1.749862      485.75000       26.994646   \n",
            "1528968900     870.000000        1.680500      486.00000       77.355759   \n",
            "1528968960     869.989990        1.669014      486.00000        7.503300   \n",
            "\n",
            "               future  target  \n",
            "time                           \n",
            "1528968720  96.389999       0  \n",
            "1528968780  96.519997       0  \n",
            "1528968840  96.440002       0  \n",
            "1528968900  96.470001       1  \n",
            "1528968960  96.400002       0  \n"
          ],
          "name": "stdout"
        }
      ]
    },
    {
      "metadata": {
        "id": "eHdqAYGgbCt3",
        "colab_type": "code",
        "colab": {}
      },
      "cell_type": "code",
      "source": [
        "# seperating the validation/out of sample data\n",
        "times = sorted(main_df.index.values)\n",
        "last_5pct = times[-int(0.05*len(times))] # get last 5% threshold\n",
        "\n",
        "validation_main_df = main_df[(main_df.index >= last_5pct)]\n",
        "main_df = main_df[(main_df.index < last_5pct)]"
      ],
      "execution_count": 0,
      "outputs": []
    },
    {
      "metadata": {
        "id": "lPDMsMnubAMy",
        "colab_type": "code",
        "colab": {}
      },
      "cell_type": "code",
      "source": [
        "# preprocessing the dataframe to create sequences and normalize\n",
        "from sklearn import preprocessing\n",
        "from collections import deque\n",
        "import random\n",
        "import numpy as np\n",
        "\n",
        "def preprocess_df(df):\n",
        "  df = df.drop('future', 1)\n",
        "  \n",
        "  for col in df.columns:\n",
        "    if col != 'target': # normalize all except target\n",
        "      df[col] = df[col].pct_change() # normalizes the different currencies\n",
        "      df.dropna(inplace=True)\n",
        "      df[col] = preprocessing.scale(df[col].values)\n",
        "    \n",
        "  df.dropna(inplace=True)\n",
        "  \n",
        "  # building the sequences\n",
        "  sequential_data = []\n",
        "  prev_days = deque(maxlen=SEQ_LEN) # our actual sequences\n",
        "  \n",
        "  for i in df.values:\n",
        "    prev_days.append([n for n in i[:-1]]) # exclude target\n",
        "    if len(prev_days) == SEQ_LEN:\n",
        "      sequential_data.append([np.array(prev_days), i[-1]])\n",
        "  \n",
        "  # balancing the data\n",
        "  buys = []\n",
        "  sells = []\n",
        "  \n",
        "  for seq, target in sequential_data:\n",
        "    if target == 0:\n",
        "      sells.append([seq, target])\n",
        "    \n",
        "    elif target == 1:\n",
        "      buys.append([seq, target])\n",
        "  \n",
        "  lower = min(len(buys), len(sells)) # to get shorter length\n",
        "  \n",
        "  buys = buys[:lower]\n",
        "  sells = sells[:lower]\n",
        "  \n",
        "  sequential_data = buys + sells\n",
        "  \n",
        "  random.shuffle(sequential_data)\n",
        "  \n",
        "  # split the data back to feature sets and targets\n",
        "  X = []\n",
        "  y = []\n",
        "  \n",
        "  for seq, target in sequential_data:\n",
        "    X.append(seq)\n",
        "    y.append(target)\n",
        "    \n",
        "  return np.array(X), y"
      ],
      "execution_count": 0,
      "outputs": []
    },
    {
      "metadata": {
        "id": "XqfRiWEZff5e",
        "colab_type": "code",
        "colab": {}
      },
      "cell_type": "code",
      "source": [
        "# preprocessing the data\n",
        "train_x, train_y = preprocess_df(main_df)\n",
        "validation_x, validation_y = preprocess_df(validation_main_df)"
      ],
      "execution_count": 0,
      "outputs": []
    },
    {
      "metadata": {
        "id": "Uz-o9TgIvGEw",
        "colab_type": "code",
        "colab": {}
      },
      "cell_type": "code",
      "source": [
        "# making few more constants\n",
        "import time\n",
        "\n",
        "\n",
        "EPOCHS = 10\n",
        "BATCH_SIZE = 64\n",
        "NAME = f\"{RATIO_TO_PREDICT}-{SEQ_LEN}-SEQ-{FUTURE_PERIOD_PREDICT}-PRED-{int(time.time())}\""
      ],
      "execution_count": 0,
      "outputs": []
    },
    {
      "metadata": {
        "id": "sqymjAnMSJe8",
        "colab_type": "code",
        "colab": {}
      },
      "cell_type": "code",
      "source": [
        "# build the model\n",
        "import tensorflow as tf\n",
        "from tensorflow.keras.models import Sequential\n",
        "from tensorflow.keras.layers import Dense, Dropout, CuDNNLSTM, BatchNormalization\n",
        "from tensorflow.keras.callbacks import TensorBoard, ModelCheckpoint\n",
        "\n",
        "\n",
        "model = Sequential()\n",
        "model.add(CuDNNLSTM(128, input_shape=(train_x.shape[1:]), return_sequences=True))\n",
        "model.add(Dropout(0.2))\n",
        "model.add(BatchNormalization())\n",
        "\n",
        "model.add(CuDNNLSTM(128, return_sequences=True))\n",
        "model.add(Dropout(0.1))\n",
        "model.add(BatchNormalization())\n",
        "\n",
        "model.add(CuDNNLSTM(128))\n",
        "model.add(Dropout(0.2))\n",
        "model.add(BatchNormalization())\n",
        "\n",
        "model.add(Dense(32, activation='relu'))\n",
        "model.add(Dropout(0.2))\n",
        "\n",
        "model.add(Dense(2, activation='softmax'))"
      ],
      "execution_count": 0,
      "outputs": []
    },
    {
      "metadata": {
        "id": "vH_kJfh3S0xn",
        "colab_type": "code",
        "colab": {}
      },
      "cell_type": "code",
      "source": [
        "# compile the model\n",
        "opt = tf.keras.optimizers.Adam(lr=0.001, decay=1e-6)\n",
        "\n",
        "model.compile(loss='sparse_categorical_crossentropy',\n",
        "              optimizer=opt,\n",
        "              metrics=['acc'])\n",
        "\n",
        "tensorboard = TensorBoard(log_dir=f'logs/{NAME}')\n",
        "\n",
        "filepath = 'RNN_Final-{epoch:02d}-{val_acc:.3f}'\n",
        "checkpoint = ModelCheckpoint('models/{}.model'.format(filepath, monitor='val_acc', verbose=1, save_best_only=True, mode='max'))"
      ],
      "execution_count": 0,
      "outputs": []
    },
    {
      "metadata": {
        "id": "VPEu3e-QVx5j",
        "colab_type": "code",
        "colab": {
          "base_uri": "https://localhost:8080/",
          "height": 439
        },
        "outputId": "19c39a9f-ce35-45f8-f2fc-13376504530b"
      },
      "cell_type": "code",
      "source": [
        "# train the model\n",
        "history = model.fit(\n",
        "    train_x, train_y,\n",
        "    batch_size=BATCH_SIZE,\n",
        "    epochs=EPOCHS,\n",
        "    validation_data=(validation_x, validation_y),\n",
        "    callbacks=[tensorboard, checkpoint],\n",
        ")\n",
        "\n",
        "# score model\n",
        "score = model.evaluate(validation_x, validation_y, verbose=0)\n",
        "print('Test loss:',score[0])\n",
        "print('Test accuracy:',score[1])\n",
        "\n",
        "# save the model\n",
        "model.save(f'models/{NAME}')"
      ],
      "execution_count": 28,
      "outputs": [
        {
          "output_type": "stream",
          "text": [
            "Train on 77922 samples, validate on 3860 samples\n",
            "Epoch 1/10\n",
            "77922/77922 [==============================] - 82s 1ms/sample - loss: 0.7014 - acc: 0.5486 - val_loss: 0.6973 - val_acc: 0.5137\n",
            "Epoch 2/10\n",
            "77922/77922 [==============================] - 81s 1ms/sample - loss: 0.6595 - acc: 0.5923 - val_loss: 1.0020 - val_acc: 0.5531\n",
            "Epoch 3/10\n",
            "77922/77922 [==============================] - 82s 1ms/sample - loss: 0.6393 - acc: 0.6130 - val_loss: 0.9376 - val_acc: 0.5536\n",
            "Epoch 4/10\n",
            "77922/77922 [==============================] - 81s 1ms/sample - loss: 0.6212 - acc: 0.6306 - val_loss: 0.7783 - val_acc: 0.5655\n",
            "Epoch 5/10\n",
            "77922/77922 [==============================] - 82s 1ms/sample - loss: 0.6053 - acc: 0.6422 - val_loss: 0.9488 - val_acc: 0.5684\n",
            "Epoch 6/10\n",
            "77922/77922 [==============================] - 80s 1ms/sample - loss: 0.5903 - acc: 0.6555 - val_loss: 1.1057 - val_acc: 0.5749\n",
            "Epoch 7/10\n",
            "77922/77922 [==============================] - 79s 1ms/sample - loss: 0.5783 - acc: 0.6688 - val_loss: 0.8172 - val_acc: 0.5500\n",
            "Epoch 8/10\n",
            "77922/77922 [==============================] - 78s 997us/sample - loss: 0.5640 - acc: 0.6818 - val_loss: 0.9988 - val_acc: 0.5642\n",
            "Epoch 9/10\n",
            "77922/77922 [==============================] - 78s 998us/sample - loss: 0.5522 - acc: 0.6940 - val_loss: 0.9583 - val_acc: 0.5640\n",
            "Epoch 10/10\n",
            "77922/77922 [==============================] - 78s 997us/sample - loss: 0.5380 - acc: 0.7027 - val_loss: 1.1452 - val_acc: 0.5456\n",
            "Test loss: 1.1451953160330421\n",
            "Test accuracy: 0.5455959\n"
          ],
          "name": "stdout"
        }
      ]
    },
    {
      "metadata": {
        "id": "svG9earmWrWo",
        "colab_type": "code",
        "colab": {}
      },
      "cell_type": "code",
      "source": [
        ""
      ],
      "execution_count": 0,
      "outputs": []
    }
  ]
}