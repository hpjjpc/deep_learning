{
 "cells": [
  {
   "cell_type": "markdown",
   "metadata": {},
   "source": [
    "## Ordinary Least Squares (OLS) regression"
   ]
  },
  {
   "cell_type": "code",
   "execution_count": 6,
   "metadata": {},
   "outputs": [],
   "source": [
    "import tensorflow as tf\n",
    "import numpy as np"
   ]
  },
  {
   "cell_type": "code",
   "execution_count": 7,
   "metadata": {},
   "outputs": [],
   "source": [
    "# Creating small 1D toy dataset with 10 training samples\n",
    "X_train=np.arange(10).reshape((10,1))\n",
    "y_train=np.array([1.0, 1.3, 3.1, 2.0, 5.0, 6.3, 6.6, 7.4, 8.0, 9.0])"
   ]
  },
  {
   "cell_type": "code",
   "execution_count": 8,
   "metadata": {},
   "outputs": [],
   "source": [
    "class TfLinreg(object):\n",
    "    def __init__(self, x_dim, learning_rate=0.01, random_seed=None):\n",
    "        self.x_dim=x_dim\n",
    "        self.learning_rate=learning_rate\n",
    "        self.g=tf.Graph()\n",
    "        ## Build the model\n",
    "        with self.g.as_default():\n",
    "            ## Set graph level random_seed\n",
    "            tf.set_random_seed(random_seed)\n",
    "            self.build()\n",
    "            ## Create initializer\n",
    "            self.init_op=tf.global_variables_initializer()\n",
    "    \n",
    "    def build(self):\n",
    "        ## Define placeholders for inputs\n",
    "        self.X=tf.placeholder(dtype=tf.float32, shape=(None, self.x_dim), name='x_input')\n",
    "        self.y=tf.placeholder(dtype=tf.float32, shape=(None), name='y_input')\n",
    "        print(self.X)\n",
    "        print(self.y)\n",
    "        \n",
    "        ## Define weight matrix and bias vector\n",
    "        w=tf.Variable(tf.zeros(shape=(1)), name='weight')\n",
    "        b=tf.Variable(tf.zeros(shape=(1)), name='bias')\n",
    "        print(w)\n",
    "        print(b)\n",
    "        \n",
    "        self.z_net=tf.squeeze(w*self.X + b, name='z_net')\n",
    "        print(self.z_net)\n",
    "        \n",
    "        sqr_errors=tf.square(self.y-self.z_net, name='sqr_errors')\n",
    "        print(sqr_errors)\n",
    "        \n",
    "        self.mean_cost=tf.reduce_mean(sqr_errors, name='mean_cost')\n",
    "        \n",
    "        optimizer=tf.train.GradientDescentOptimizer(learning_rate=self.learning_rate, name='GradientDescent')\n",
    "        self.optimizer=optimizer.minimize(self.mean_cost)"
   ]
  },
  {
   "cell_type": "code",
   "execution_count": 9,
   "metadata": {},
   "outputs": [
    {
     "name": "stdout",
     "output_type": "stream",
     "text": [
      "Tensor(\"x_input:0\", shape=(?, 1), dtype=float32)\n",
      "Tensor(\"y_input:0\", dtype=float32)\n",
      "<tf.Variable 'weight:0' shape=(1,) dtype=float32_ref>\n",
      "<tf.Variable 'bias:0' shape=(1,) dtype=float32_ref>\n",
      "Tensor(\"z_net:0\", dtype=float32)\n",
      "Tensor(\"sqr_errors:0\", dtype=float32)\n"
     ]
    }
   ],
   "source": [
    "lrmodel=TfLinreg(x_dim=X_train.shape[1], learning_rate=0.01)"
   ]
  },
  {
   "cell_type": "code",
   "execution_count": 10,
   "metadata": {},
   "outputs": [],
   "source": [
    "# Function for training the model\n",
    "def train_linreg(sess, model, X_train, y_train, num_epochs=10):\n",
    "    ## initialize all variables: W and b\n",
    "    sess.run(model.init_op)\n",
    "    training_costs=[]\n",
    "    for i in range(num_epochs):\n",
    "        _, cost=sess.run([model.optimizer, model.mean_cost], feed_dict={model.X:X_train, model.y:y_train})\n",
    "        training_costs.append(cost)\n",
    "    return training_costs"
   ]
  },
  {
   "cell_type": "code",
   "execution_count": 11,
   "metadata": {},
   "outputs": [
    {
     "name": "stdout",
     "output_type": "stream",
     "text": [
      "Training time: 906.5155982971191 ms\n",
      "[32.431, 6.0113096, 1.446125, 0.65659344, 0.51936322, 0.4948352, 0.48978764, 0.48811454, 0.48703355, 0.48606348]\n"
     ]
    }
   ],
   "source": [
    "import time\n",
    "# Creating session\n",
    "sess=tf.Session(graph=lrmodel.g)\n",
    "tic=time.time()\n",
    "training_costs=train_linreg(sess, lrmodel, X_train, y_train)\n",
    "toc=time.time()\n",
    "print('Training time:',(toc-tic)*1000,'ms')\n",
    "print(training_costs)"
   ]
  },
  {
   "cell_type": "code",
   "execution_count": 12,
   "metadata": {},
   "outputs": [],
   "source": [
    "# plotting the training cost to check convergence\n",
    "import matplotlib.pyplot as plt\n",
    "%matplotlib inline"
   ]
  },
  {
   "cell_type": "code",
   "execution_count": 13,
   "metadata": {},
   "outputs": [
    {
     "data": {
      "text/plain": [
       "<matplotlib.text.Text at 0x249765b91d0>"
      ]
     },
     "execution_count": 13,
     "metadata": {},
     "output_type": "execute_result"
    },
    {
     "data": {
      "image/png": "[encoded data removed]",
      "text/plain": [
       "<matplotlib.figure.Figure at 0x24975391dd8>"
      ]
     },
     "metadata": {},
     "output_type": "display_data"
    }
   ],
   "source": [
    "plt.plot(range(1,len(training_costs)+1), training_costs)\n",
    "plt.tight_layout()\n",
    "plt.xlabel('Epoch')\n",
    "plt.ylabel('Training Cost')"
   ]
  },
  {
   "cell_type": "code",
   "execution_count": 14,
   "metadata": {},
   "outputs": [],
   "source": [
    "def predict_linreg(sess, model, X_test):\n",
    "    y_pred=sess.run(model.z_net, feed_dict={model.X:X_test})\n",
    "    return y_pred"
   ]
  },
  {
   "cell_type": "code",
   "execution_count": 15,
   "metadata": {},
   "outputs": [
    {
     "data": {
      "image/png": "[encoded data removed]",
      "text/plain": [
       "<matplotlib.figure.Figure at 0x249765b9898>"
      ]
     },
     "metadata": {},
     "output_type": "display_data"
    }
   ],
   "source": [
    "# Plotting linear regression fit on the training data\n",
    "plt.scatter(X_train, y_train, marker='s', s=50, label='Training Data')\n",
    "plt.plot(range(X_train.shape[0]), predict_linreg(sess, lrmodel, X_train), color='gray', marker='o', markersize=6, linewidth=3, label='LinReg Model')\n",
    "plt.xlabel('x')\n",
    "plt.ylabel('y')\n",
    "plt.legend()\n",
    "plt.tight_layout()"
   ]
  }
 ],
 "metadata": {
  "kernelspec": {
   "display_name": "Python 3",
   "language": "python",
   "name": "python3"
  },
  "language_info": {
   "codemirror_mode": {
    "name": "ipython",
    "version": 3
   },
   "file_extension": ".py",
   "mimetype": "text/x-python",
   "name": "python",
   "nbconvert_exporter": "python",
   "pygments_lexer": "ipython3",
   "version": "3.6.2"
  }
 },
 "nbformat": 4,
 "nbformat_minor": 2
}
