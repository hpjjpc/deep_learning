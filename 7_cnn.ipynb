{
 "cells": [
  {
   "cell_type": "markdown",
   "metadata": {},
   "source": [
    "## Convolutional Neural Networks with MNIST dataset"
   ]
  },
  {
   "cell_type": "code",
   "execution_count": 4,
   "metadata": {},
   "outputs": [],
   "source": [
    "import os\n",
    "import struct\n",
    "import numpy as np"
   ]
  },
  {
   "cell_type": "code",
   "execution_count": 5,
   "metadata": {},
   "outputs": [],
   "source": [
    "def load_mnist(path, kind='train'):\n",
    "    \"\"\"Load MNIST data from path\"\"\"\n",
    "    labels_path=os.path.join(path, '%s-labels.idx1-ubyte' % kind)\n",
    "    images_path=os.path.join(path, '%s-images.idx3-ubyte' % kind)\n",
    "    \n",
    "    with open(labels_path, 'rb') as lbpath:\n",
    "        magic, n=struct.unpack('>II', lbpath.read(8))\n",
    "        labels=np.fromfile(lbpath, dtype=np.uint8)\n",
    "    \n",
    "    with open(images_path, 'rb') as imgpath:\n",
    "        magic, num, rows, cols=struct.unpack('>IIII', imgpath.read(16))\n",
    "        images=np.fromfile(imgpath, dtype=np.uint8).reshape(len(labels), 784)\n",
    "        images=((images/255.0)-0.5)*2 #normalized to -1 to 1 range\n",
    "    \n",
    "    return images, labels"
   ]
  },
  {
   "cell_type": "markdown",
   "metadata": {},
   "source": [
    "### Loading and pre-processing the data"
   ]
  },
  {
   "cell_type": "code",
   "execution_count": 6,
   "metadata": {},
   "outputs": [
    {
     "name": "stdout",
     "output_type": "stream",
     "text": [
      "Rows:60000,Columns:784\n",
      "Rows:10000,Columns:784\n",
      "Training:  (50000, 784) (50000,)\n",
      "Validation:  (10000, 784) (10000,)\n",
      "Test Set:  (10000, 784) (10000,)\n"
     ]
    }
   ],
   "source": [
    "X_data, y_data=load_mnist('data/',kind='train')\n",
    "print('Rows:{},Columns:{}'.format(X_data.shape[0], X_data.shape[1]))\n",
    "X_test, y_test=load_mnist('data/',kind='t10k')\n",
    "print('Rows:{},Columns:{}'.format(X_test.shape[0], X_data.shape[1]))\n",
    "\n",
    "X_train, y_train=X_data[:50000,:], y_data[:50000]\n",
    "X_valid, y_valid=X_data[50000:,:], y_data[50000:]\n",
    "print('Training: ',X_train.shape, y_train.shape)\n",
    "print('Validation: ',X_valid.shape, y_valid.shape)\n",
    "print('Test Set: ',X_test.shape, y_test.shape)"
   ]
  },
  {
   "cell_type": "code",
   "execution_count": 5,
   "metadata": {},
   "outputs": [],
   "source": [
    "def batch_generator(X, y, batch_size=64, shuffle=False, random_seed=None):\n",
    "    \" Function for iterating through mini-batches of data \"\n",
    "    idx=np.arange(y.shape[0])\n",
    "    \n",
    "    if shuffle:\n",
    "        rng=np.random.RandomState(random_seed)\n",
    "        rng.shuffle(idx)\n",
    "        X=X[idx]\n",
    "        y=y[idx]\n",
    "    \n",
    "    for i in range(0, X.shape[0], batch_size):\n",
    "        yield (X[i:i+batch_size,:], y[i:i+batch_size])\n",
    "        "
   ]
  },
  {
   "cell_type": "code",
   "execution_count": 6,
   "metadata": {},
   "outputs": [],
   "source": [
    "# Normalizing the data\n",
    "mean_vals=np.mean(X_train, axis=0)\n",
    "std_val=np.std(X_train)\n",
    "\n",
    "X_train_centered=(X_train-mean_vals)/std_val\n",
    "X_valid_centered=(X_valid-mean_vals)/std_val\n",
    "X_test_centered=(X_test-mean_vals)/std_val"
   ]
  },
  {
   "cell_type": "code",
   "execution_count": 7,
   "metadata": {},
   "outputs": [],
   "source": [
    "import tensorflow as tf"
   ]
  },
  {
   "cell_type": "code",
   "execution_count": 8,
   "metadata": {},
   "outputs": [],
   "source": [
    "# Building wrapper functions\n",
    "def conv_layer(input_tensor,name,kernel_size,n_output_channels,padding_mode='SAME',strides=(1,1,1,1)):\n",
    "    with tf.variable_scope(name):\n",
    "        input_shape=input_tensor.get_shape().as_list()\n",
    "        n_input_channels=input_shape[-1]\n",
    "        \n",
    "        weights_shape=list(kernel_size)+[n_input_channels,n_output_channels]\n",
    "        weights=tf.get_variable(name='_weights',shape=weights_shape)\n",
    "        print(weights)\n",
    "        \n",
    "        biases=tf.get_variable(name='_biases',initializer=tf.zeros(shape=[n_output_channels]))\n",
    "        print(biases)\n",
    "        \n",
    "        conv=tf.nn.conv2d(input=input_tensor,filter=weights,strides=strides,padding=padding_mode)\n",
    "        print(conv)\n",
    "        \n",
    "        conv=tf.nn.bias_add(conv,biases,name='net_pre-activation')\n",
    "        print(conv)\n",
    "        \n",
    "        conv=tf.nn.relu(conv,name='activation')\n",
    "        print(conv)\n",
    "        \n",
    "        return conv"
   ]
  },
  {
   "cell_type": "code",
   "execution_count": 9,
   "metadata": {},
   "outputs": [],
   "source": [
    "def fc_layer(input_tensor,name,n_output_units,activation_fn=None):\n",
    "    with tf.variable_scope(name):\n",
    "        input_shape=input_tensor.get_shape().as_list()[1:]\n",
    "        n_input_units=np.prod(input_shape)\n",
    "        if len(input_shape)>1:\n",
    "            input_tensor=tf.reshape(input_tensor,shape=(-1,n_input_units))\n",
    "        \n",
    "        weights_shape=[n_input_units,n_output_units]\n",
    "        weights=tf.get_variable(name='_weights',shape=weights_shape)\n",
    "        print(weights)\n",
    "        \n",
    "        biases=tf.get_variable(name='_biases',initializer=tf.zeros(shape=[n_output_units]))\n",
    "        print(biases)\n",
    "        \n",
    "        layer=tf.matmul(input_tensor,weights)\n",
    "        print(layer)\n",
    "        layer=tf.nn.bias_add(layer,biases,name='net_pre-activation')\n",
    "        print(layer)\n",
    "        \n",
    "        if activation_fn is None:\n",
    "            return layer\n",
    "        layer=activation_fn(layer,name='activation')\n",
    "        print(layer)\n",
    "        return layer"
   ]
  },
  {
   "cell_type": "code",
   "execution_count": 13,
   "metadata": {},
   "outputs": [],
   "source": [
    "# Building the CNN model\n",
    "def build_cnn():\n",
    "    ## Placeholders for X and y\n",
    "    tf_x=tf.placeholder(tf.float32, shape=[None, 784], name='tf_x')\n",
    "    tf_y=tf.placeholder(tf.int32,shape=[None],name='tf_y')\n",
    "    \n",
    "    # Reshape x to a 4D tensor\n",
    "    # [batchsize, width, height, 1]\n",
    "    tf_x_image=tf.reshape(tf_x,shape=[-1,28,28,1],name='tf_x_reshaped')\n",
    "    \n",
    "    # One-hot encoding\n",
    "    tf_y_onehot=tf.one_hot(indices=tf_y,depth=10,dtype=tf.float32,name='tf_y_onehot')\n",
    "    \n",
    "    # 1st layer: Conv_1\n",
    "    print('\\nBuilding 1st layer:')\n",
    "    h1=conv_layer(tf_x_image,name='conv_1',kernel_size=(5,5),padding_mode='VALID',n_output_channels=32)\n",
    "    \n",
    "    # MaxPooling\n",
    "    h1_pool=tf.nn.max_pool(h1,ksize=[1,2,2,1],strides=[1,2,2,1],padding='SAME')\n",
    "    \n",
    "    # 2nd layer: Conv_2\n",
    "    print('\\nBuilding 2nd layer:')\n",
    "    h2=conv_layer(h1_pool,name='conv_2',kernel_size=(5,5),padding_mode='VALID',n_output_channels=64)\n",
    "    \n",
    "    # MaxPooling\n",
    "    h2_pool=tf.nn.max_pool(h2,ksize=[1,2,2,1],strides=[1,2,2,1],padding='SAME')\n",
    "    \n",
    "    # 3rd layer: Fully Connected\n",
    "    print('\\nBuilding 3rd layer:')\n",
    "    h3=fc_layer(h2_pool,name='fc_3',n_output_units=1024,activation_fn=tf.nn.relu)\n",
    "    \n",
    "    # Dropout\n",
    "    keep_prob=tf.placeholder(tf.float32,name='fc_keep_prob')\n",
    "    h3_drop=tf.nn.dropout(h3,keep_prob=keep_prob,name='dropout_layer')\n",
    "    \n",
    "    # 4th layer: Fully Connected (linear activation)\n",
    "    print('\\nBuilding 4th layer:')\n",
    "    h4=fc_layer(h3_drop, name='fc_4',n_output_units=10,activation_fn=None)\n",
    "    \n",
    "    # Prediction\n",
    "    predictions={'probabilities':tf.nn.softmax(h4,name='probabilities'),'labels':tf.cast(tf.argmax(h4,axis=1),tf.int32,name='labels')}\n",
    "    \n",
    "    # Loss Function and Optimization\n",
    "    cross_entropy_loss=tf.reduce_mean(tf.nn.softmax_cross_entropy_with_logits(logits=h4,labels=tf_y_onehot),name='cross_entropy_loss')\n",
    "    \n",
    "    # Optimizer\n",
    "    optimizer=tf.train.AdamOptimizer(learning_rate)\n",
    "    optimizer=optimizer.minimize(cross_entropy_loss,name='train_op')\n",
    "    \n",
    "    # Computing the prediction accuracy\n",
    "    correct_predictions=tf.equal(predictions['labels'],tf_y,name='correct_preds')\n",
    "    accuracy=tf.reduce_mean(tf.cast(correct_predictions,tf.float32),name='accuracy')"
   ]
  },
  {
   "cell_type": "code",
   "execution_count": 14,
   "metadata": {},
   "outputs": [],
   "source": [
    "# Other helper functions\n",
    "def save(saver,sess,epoch,path='./model/'):\n",
    "    if not os.path.isdir(path):\n",
    "        os.makedirs(path)\n",
    "    print('Saving model in %s' % path)\n",
    "    saver.save(sess,os.path.join(path,'cnn-model.ckpt'),global_step=epoch)\n",
    "\n",
    "def load(saver,sess,path,epoch):\n",
    "    print('Loading model from %s'%path)\n",
    "    saver.restore(sess,os.path.join(path,'cnn-model.ckpt-%d'%epoch))\n",
    "\n",
    "def train(sess,training_set,validation_set=None,initialize=True,epochs=20,shuffle=True,dropout=0.5,random_seed=None):\n",
    "    X_data=np.array(training_set[0])\n",
    "    y_data=np.array(training_set[1])\n",
    "    training_loss=[]\n",
    "    \n",
    "    # initialize variables\n",
    "    if initialize:\n",
    "        sess.run(tf.global_variables_initializer())\n",
    "    \n",
    "    np.random.seed(random_seed) # for shuffling in batch generator\n",
    "    \n",
    "    for epoch in range(1,epochs+1):\n",
    "        batch_gen=batch_generator(X_data,y_data,shuffle=shuffle)\n",
    "        avg_loss=0.0\n",
    "\n",
    "        for i,(batch_x,batch_y) in enumerate(batch_gen):\n",
    "            feed={'tf_x:0':batch_x,'tf_y:0':batch_y,'fc_keep_prob:0':dropout}\n",
    "            loss,_=sess.run(['cross_entropy_loss:0','train_op'],feed_dict=feed)\n",
    "            avg_loss+=loss\n",
    "\n",
    "        training_loss.append(avg_loss/(i+1))\n",
    "        print('Epoch %02d Training Avg. Loss: %7.3f'%(epoch,avg_loss),end=' ')\n",
    "        if validation_set is not None:\n",
    "            feed={'tf_x:0':validation_set[0],'tf_y:0':validation_set[1],'fc_keep_prob:0':1.0}\n",
    "            valid_acc=sess.run('accuracy:0',feed_dict=feed)\n",
    "            print('Validation Acc: %7.3f'%valid_acc)\n",
    "        else:\n",
    "            print()\n",
    "\n",
    "def predict(sess,X_test,return_proba=False):\n",
    "    feed={'tf_x:0':X_test,'fc_keep_prob:0':1.0}\n",
    "    if return_proba:\n",
    "        return sess.run('probabilites:0',feed_dict=feed)\n",
    "    else:\n",
    "        return sess.run('labels:0',feed_dict=feed)"
   ]
  },
  {
   "cell_type": "code",
   "execution_count": 15,
   "metadata": {},
   "outputs": [
    {
     "name": "stdout",
     "output_type": "stream",
     "text": [
      "\n",
      "Building 1st layer:\n",
      "<tf.Variable 'conv_1/_weights:0' shape=(5, 5, 1, 32) dtype=float32_ref>\n",
      "<tf.Variable 'conv_1/_biases:0' shape=(32,) dtype=float32_ref>\n",
      "Tensor(\"conv_1/Conv2D:0\", shape=(?, 24, 24, 32), dtype=float32)\n",
      "Tensor(\"conv_1/net_pre-activation:0\", shape=(?, 24, 24, 32), dtype=float32)\n",
      "Tensor(\"conv_1/activation:0\", shape=(?, 24, 24, 32), dtype=float32)\n",
      "\n",
      "Building 2nd layer:\n",
      "<tf.Variable 'conv_2/_weights:0' shape=(5, 5, 32, 64) dtype=float32_ref>\n",
      "<tf.Variable 'conv_2/_biases:0' shape=(64,) dtype=float32_ref>\n",
      "Tensor(\"conv_2/Conv2D:0\", shape=(?, 8, 8, 64), dtype=float32)\n",
      "Tensor(\"conv_2/net_pre-activation:0\", shape=(?, 8, 8, 64), dtype=float32)\n",
      "Tensor(\"conv_2/activation:0\", shape=(?, 8, 8, 64), dtype=float32)\n",
      "\n",
      "Building 3rd layer:\n",
      "<tf.Variable 'fc_3/_weights:0' shape=(1024, 1024) dtype=float32_ref>\n",
      "<tf.Variable 'fc_3/_biases:0' shape=(1024,) dtype=float32_ref>\n",
      "Tensor(\"fc_3/MatMul:0\", shape=(?, 1024), dtype=float32)\n",
      "Tensor(\"fc_3/net_pre-activation:0\", shape=(?, 1024), dtype=float32)\n",
      "Tensor(\"fc_3/activation:0\", shape=(?, 1024), dtype=float32)\n",
      "\n",
      "Building 4th layer:\n",
      "<tf.Variable 'fc_4/_weights:0' shape=(1024, 10) dtype=float32_ref>\n",
      "<tf.Variable 'fc_4/_biases:0' shape=(10,) dtype=float32_ref>\n",
      "Tensor(\"fc_4/MatMul:0\", shape=(?, 10), dtype=float32)\n",
      "Tensor(\"fc_4/net_pre-activation:0\", shape=(?, 10), dtype=float32)\n",
      "WARNING:tensorflow:From <ipython-input-13-66989156f702>:44: softmax_cross_entropy_with_logits (from tensorflow.python.ops.nn_ops) is deprecated and will be removed in a future version.\n",
      "Instructions for updating:\n",
      "\n",
      "Future major versions of TensorFlow will allow gradients to flow\n",
      "into the labels input on backprop by default.\n",
      "\n",
      "See @{tf.nn.softmax_cross_entropy_with_logits_v2}.\n",
      "\n"
     ]
    }
   ],
   "source": [
    "# Creating Tensorflow graph object\n",
    "# Building CNN model in the graph\n",
    "\n",
    "# Define hyperparameters\n",
    "learning_rate=1e-4\n",
    "random_seed=123\n",
    "\n",
    "# Create a graph\n",
    "g=tf.Graph()\n",
    "with g.as_default():\n",
    "    tf.set_random_seed(random_seed)\n",
    "    # Build the graph\n",
    "    build_cnn()\n",
    "    # Saver\n",
    "    saver=tf.train.Saver()"
   ]
  },
  {
   "cell_type": "code",
   "execution_count": 1,
   "metadata": {},
   "outputs": [],
   "source": [
    "# Create a TF session and train the CNN model\n",
    "#with tf.Session(graph=g) as sess:\n",
    "#    train(sess,training_set=(X_train_centered,y_train),validation_set=(X_valid_centered,y_valid),initialize=True,random_seed=123)\n",
    "#    save(saver,sess,epoch=20)"
   ]
  },
  {
   "cell_type": "code",
   "execution_count": null,
   "metadata": {},
   "outputs": [],
   "source": []
  }
 ],
 "metadata": {
  "kernelspec": {
   "display_name": "Python 3",
   "language": "python",
   "name": "python3"
  },
  "language_info": {
   "codemirror_mode": {
    "name": "ipython",
    "version": 3
   },
   "file_extension": ".py",
   "mimetype": "text/x-python",
   "name": "python",
   "nbconvert_exporter": "python",
   "pygments_lexer": "ipython3",
   "version": "3.6.2"
  }
 },
 "nbformat": 4,
 "nbformat_minor": 2
}
