{
 "cells": [
  {
   "cell_type": "markdown",
   "metadata": {},
   "source": [
    "### Multilayer Neural Network with Tf's Keras API"
   ]
  },
  {
   "cell_type": "code",
   "execution_count": 2,
   "metadata": {},
   "outputs": [],
   "source": [
    "import os\n",
    "import struct\n",
    "import numpy as np"
   ]
  },
  {
   "cell_type": "code",
   "execution_count": 3,
   "metadata": {},
   "outputs": [],
   "source": [
    "def load_mnist(path, kind='train'):\n",
    "    \"\"\"Load MNIST data from path\"\"\"\n",
    "    labels_path=os.path.join(path, '%s-labels.idx1-ubyte' % kind)\n",
    "    images_path=os.path.join(path, '%s-images.idx3-ubyte' % kind)\n",
    "    \n",
    "    with open(labels_path, 'rb') as lbpath:\n",
    "        magic, n=struct.unpack('>II', lbpath.read(8))\n",
    "        labels=np.fromfile(lbpath, dtype=np.uint8)\n",
    "    \n",
    "    with open(images_path, 'rb') as imgpath:\n",
    "        magic, num, rows, cols=struct.unpack('>IIII', imgpath.read(16))\n",
    "        images=np.fromfile(imgpath, dtype=np.uint8).reshape(len(labels), 784)\n",
    "        images=((images/255.0)-0.5)*2 #normalized to -1 to 1 range\n",
    "    \n",
    "    return images, labels"
   ]
  },
  {
   "cell_type": "code",
   "execution_count": 4,
   "metadata": {},
   "outputs": [
    {
     "name": "stdout",
     "output_type": "stream",
     "text": [
      "Rows: 60000, Columns: 784\n"
     ]
    }
   ],
   "source": [
    "# Loading the data\n",
    "X_train, y_train=load_mnist('data/',kind='train')\n",
    "print('Rows: %d, Columns: %d'%(X_train.shape[0], X_train.shape[1]))"
   ]
  },
  {
   "cell_type": "code",
   "execution_count": 5,
   "metadata": {},
   "outputs": [
    {
     "name": "stdout",
     "output_type": "stream",
     "text": [
      "Rows: 10000, Columns: 784\n"
     ]
    }
   ],
   "source": [
    "X_test, y_test=load_mnist('data/', kind='t10k')\n",
    "print('Rows: %d, Columns: %d'%(X_test.shape[0], X_test.shape[1]))"
   ]
  },
  {
   "cell_type": "code",
   "execution_count": 6,
   "metadata": {},
   "outputs": [],
   "source": [
    "# Mean centering and normalization\n",
    "mean_vals=np.mean(X_train, axis=0)\n",
    "std_val=np.std(X_train)\n",
    "X_train_centered=(X_train-mean_vals)/std_val\n",
    "X_test_centered=(X_test-mean_vals)/std_val"
   ]
  },
  {
   "cell_type": "code",
   "execution_count": 7,
   "metadata": {},
   "outputs": [],
   "source": [
    "# Setting random seed for numpy and tensorflow\n",
    "import tensorflow as tf\n",
    "import tensorflow.contrib.keras as keras\n",
    "np.random.seed(123)\n",
    "tf.set_random_seed(123)"
   ]
  },
  {
   "cell_type": "code",
   "execution_count": 8,
   "metadata": {},
   "outputs": [
    {
     "name": "stdout",
     "output_type": "stream",
     "text": [
      "First 3 labels: [5 0 4]\n",
      "First 3 labels(one-hot):\n",
      " [[ 0.  0.  0.  0.  0.  1.  0.  0.  0.  0.]\n",
      " [ 1.  0.  0.  0.  0.  0.  0.  0.  0.  0.]\n",
      " [ 0.  0.  0.  0.  1.  0.  0.  0.  0.  0.]]\n"
     ]
    }
   ],
   "source": [
    "# Conveting class labels into one-hot format\n",
    "y_train_onehot=keras.utils.to_categorical(y_train)\n",
    "print('First 3 labels:',y_train[:3])\n",
    "print('First 3 labels(one-hot):\\n',y_train_onehot[:3])"
   ]
  },
  {
   "cell_type": "code",
   "execution_count": 9,
   "metadata": {},
   "outputs": [],
   "source": [
    "# Implementing the neural network\n",
    "model=keras.models.Sequential()\n",
    "model.add(\n",
    "    keras.layers.Dense(\n",
    "        units=50,\n",
    "        input_dim=X_train_centered.shape[1],\n",
    "        kernel_initializer='glorot_uniform',\n",
    "        bias_initializer='zeros',\n",
    "        activation='tanh'))\n",
    "model.add(\n",
    "    keras.layers.Dense(\n",
    "        units=50,\n",
    "        input_dim=50,\n",
    "        kernel_initializer='glorot_uniform',\n",
    "        bias_initializer='zeros',\n",
    "        activation='tanh'))\n",
    "model.add(\n",
    "    keras.layers.Dense(\n",
    "        units=y_train_onehot.shape[1],\n",
    "        input_dim=50,\n",
    "        kernel_initializer='glorot_uniform',\n",
    "        bias_initializer='zeros',\n",
    "        activation='softmax'))\n",
    "sgd_optimizer=keras.optimizers.SGD(lr=0.001, decay=1e-7, momentum=0.9)\n",
    "model.compile(optimizer=sgd_optimizer, loss='categorical_crossentropy')"
   ]
  },
  {
   "cell_type": "code",
   "execution_count": 10,
   "metadata": {},
   "outputs": [
    {
     "name": "stdout",
     "output_type": "stream",
     "text": [
      "Train on 54000 samples, validate on 6000 samples\n",
      "Epoch 1/50\n",
      "54000/54000 [==============================] - 38s 700us/step - loss: 0.7247 - val_loss: 0.3616\n",
      "Epoch 2/50\n",
      "54000/54000 [==============================] - 3s 56us/step - loss: 0.3718 - val_loss: 0.2815\n",
      "Epoch 3/50\n",
      "54000/54000 [==============================] - 3s 59us/step - loss: 0.3087 - val_loss: 0.2447\n",
      "Epoch 4/50\n",
      "54000/54000 [==============================] - 3s 54us/step - loss: 0.2728 - val_loss: 0.2216\n",
      "Epoch 5/50\n",
      "54000/54000 [==============================] - 3s 60us/step - loss: 0.2475 - val_loss: 0.2042\n",
      "Epoch 6/50\n",
      "54000/54000 [==============================] - 3s 61us/step - loss: 0.2277 - val_loss: 0.1918\n",
      "Epoch 7/50\n",
      "54000/54000 [==============================] - 4s 69us/step - loss: 0.2115 - val_loss: 0.1810\n",
      "Epoch 8/50\n",
      "54000/54000 [==============================] - 3s 60us/step - loss: 0.1979 - val_loss: 0.1719\n",
      "Epoch 9/50\n",
      "54000/54000 [==============================] - 3s 54us/step - loss: 0.1860 - val_loss: 0.1646\n",
      "Epoch 10/50\n",
      "54000/54000 [==============================] - 3s 60us/step - loss: 0.1758 - val_loss: 0.1591\n",
      "Epoch 11/50\n",
      "54000/54000 [==============================] - 3s 64us/step - loss: 0.1667 - val_loss: 0.1543\n",
      "Epoch 12/50\n",
      "54000/54000 [==============================] - 4s 81us/step - loss: 0.1589 - val_loss: 0.1491\n",
      "Epoch 13/50\n",
      "54000/54000 [==============================] - 4s 70us/step - loss: 0.1516 - val_loss: 0.1451\n",
      "Epoch 14/50\n",
      "54000/54000 [==============================] - 3s 54us/step - loss: 0.1450 - val_loss: 0.1420\n",
      "Epoch 15/50\n",
      "54000/54000 [==============================] - 3s 58us/step - loss: 0.1389 - val_loss: 0.1385\n",
      "Epoch 16/50\n",
      "54000/54000 [==============================] - 3s 54us/step - loss: 0.1333 - val_loss: 0.1363\n",
      "Epoch 17/50\n",
      "54000/54000 [==============================] - 3s 57us/step - loss: 0.1283 - val_loss: 0.1331\n",
      "Epoch 18/50\n",
      "54000/54000 [==============================] - 3s 62us/step - loss: 0.1234 - val_loss: 0.1327\n",
      "Epoch 19/50\n",
      "54000/54000 [==============================] - 5s 88us/step - loss: 0.1191 - val_loss: 0.1293\n",
      "Epoch 20/50\n",
      "54000/54000 [==============================] - 4s 80us/step - loss: 0.1148 - val_loss: 0.1282\n",
      "Epoch 21/50\n",
      "54000/54000 [==============================] - 3s 57us/step - loss: 0.1109 - val_loss: 0.1270\n",
      "Epoch 22/50\n",
      "54000/54000 [==============================] - 3s 62us/step - loss: 0.1071 - val_loss: 0.1265\n",
      "Epoch 23/50\n",
      "54000/54000 [==============================] - 3s 64us/step - loss: 0.1037 - val_loss: 0.1243\n",
      "Epoch 24/50\n",
      "54000/54000 [==============================] - 4s 76us/step - loss: 0.1003 - val_loss: 0.1229\n",
      "Epoch 25/50\n",
      "54000/54000 [==============================] - 4s 77us/step - loss: 0.0971 - val_loss: 0.1216\n",
      "Epoch 26/50\n",
      "54000/54000 [==============================] - 3s 54us/step - loss: 0.0941 - val_loss: 0.1212\n",
      "Epoch 27/50\n",
      "54000/54000 [==============================] - 3s 59us/step - loss: 0.0912 - val_loss: 0.1200\n",
      "Epoch 28/50\n",
      "54000/54000 [==============================] - 3s 54us/step - loss: 0.0884 - val_loss: 0.1202\n",
      "Epoch 29/50\n",
      "54000/54000 [==============================] - 3s 60us/step - loss: 0.0858 - val_loss: 0.1189\n",
      "Epoch 30/50\n",
      "54000/54000 [==============================] - 3s 54us/step - loss: 0.0834 - val_loss: 0.1184\n",
      "Epoch 31/50\n",
      "54000/54000 [==============================] - 3s 60us/step - loss: 0.0810 - val_loss: 0.1184\n",
      "Epoch 32/50\n",
      "54000/54000 [==============================] - 3s 59us/step - loss: 0.0787 - val_loss: 0.1189\n",
      "Epoch 33/50\n",
      "54000/54000 [==============================] - 3s 55us/step - loss: 0.0765 - val_loss: 0.1183\n",
      "Epoch 34/50\n",
      "54000/54000 [==============================] - 3s 61us/step - loss: 0.0743 - val_loss: 0.1196\n",
      "Epoch 35/50\n",
      "54000/54000 [==============================] - 3s 56us/step - loss: 0.0723 - val_loss: 0.1179\n",
      "Epoch 36/50\n",
      "54000/54000 [==============================] - 5s 88us/step - loss: 0.0703 - val_loss: 0.1174\n",
      "Epoch 37/50\n",
      "54000/54000 [==============================] - 5s 89us/step - loss: 0.0684 - val_loss: 0.1185\n",
      "Epoch 38/50\n",
      "54000/54000 [==============================] - 4s 80us/step - loss: 0.0665 - val_loss: 0.1187\n",
      "Epoch 39/50\n",
      "54000/54000 [==============================] - 5s 92us/step - loss: 0.0647 - val_loss: 0.1171\n",
      "Epoch 40/50\n",
      "54000/54000 [==============================] - 3s 64us/step - loss: 0.0629 - val_loss: 0.1172\n",
      "Epoch 41/50\n",
      "54000/54000 [==============================] - 3s 58us/step - loss: 0.0613 - val_loss: 0.1175\n",
      "Epoch 42/50\n",
      "54000/54000 [==============================] - 3s 65us/step - loss: 0.0597 - val_loss: 0.1170\n",
      "Epoch 43/50\n",
      "54000/54000 [==============================] - 3s 62us/step - loss: 0.0581 - val_loss: 0.1168\n",
      "Epoch 44/50\n",
      "54000/54000 [==============================] - 3s 54us/step - loss: 0.0566 - val_loss: 0.1166\n",
      "Epoch 45/50\n",
      "54000/54000 [==============================] - 3s 58us/step - loss: 0.0552 - val_loss: 0.1166\n",
      "Epoch 46/50\n",
      "54000/54000 [==============================] - 3s 55us/step - loss: 0.0537 - val_loss: 0.1162\n",
      "Epoch 47/50\n",
      "54000/54000 [==============================] - 3s 58us/step - loss: 0.0523 - val_loss: 0.1170\n",
      "Epoch 48/50\n",
      "54000/54000 [==============================] - 3s 54us/step - loss: 0.0510 - val_loss: 0.1172\n",
      "Epoch 49/50\n",
      "54000/54000 [==============================] - 3s 59us/step - loss: 0.0498 - val_loss: 0.1171\n",
      "Epoch 50/50\n",
      "54000/54000 [==============================] - 3s 53us/step - loss: 0.0485 - val_loss: 0.1174\n"
     ]
    }
   ],
   "source": [
    "history=model.fit(X_train_centered, y_train_onehot, batch_size=64, epochs=50, verbose=1, validation_split=0.1)"
   ]
  },
  {
   "cell_type": "code",
   "execution_count": 11,
   "metadata": {},
   "outputs": [
    {
     "name": "stdout",
     "output_type": "stream",
     "text": [
      "Training Accuracy: 98.88%\n",
      "Test Accuracy: 96.04%\n"
     ]
    }
   ],
   "source": [
    "# Printing model accuracy on training and test sets\n",
    "y_train_pred=model.predict_classes(X_train_centered,verbose=0)\n",
    "correct_preds=np.sum(y_train==y_train_pred, axis=0)\n",
    "train_acc=correct_preds/y_train.shape[0]\n",
    "print('Training Accuracy: %.2f%%'%(train_acc*100))\n",
    "\n",
    "y_test_pred=model.predict_classes(X_test_centered, verbose=0)\n",
    "correct_preds=np.sum(y_test==y_test_pred, axis=0)\n",
    "test_acc=correct_preds/y_test.shape[0]\n",
    "print('Test Accuracy: %.2f%%'%(test_acc*100))"
   ]
  }
 ],
 "metadata": {
  "kernelspec": {
   "display_name": "Python 3",
   "language": "python",
   "name": "python3"
  },
  "language_info": {
   "codemirror_mode": {
    "name": "ipython",
    "version": 3
   },
   "file_extension": ".py",
   "mimetype": "text/x-python",
   "name": "python",
   "nbconvert_exporter": "python",
   "pygments_lexer": "ipython3",
   "version": "3.6.2"
  }
 },
 "nbformat": 4,
 "nbformat_minor": 2
}
